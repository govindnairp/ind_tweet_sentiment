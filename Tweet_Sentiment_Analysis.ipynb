{
 "cells": [
  {
   "cell_type": "markdown",
   "metadata": {},
   "source": [
    "# Industry sentiment analysis from twitter feed - Phase 1 (Sentiment Classification)\n",
    "\n",
    "This intent of this notebook is to demonstrate a neural network's ability to sentiment classify tweets. This notebook will be the 1st in a series of notebooks that will demonstrate capabilities that are required to built the project \"Industry sentiment analysis from twitter feed\".  Details of this project is available at :\n",
    "\n",
    "http://innovativespur.com/industry-sentiment-analysis-from-twitter-feed/\n",
    "\n",
    "This notebook being the phase 1, lays down the python codes in developing a tweet sentiment classification (positive, neutral and negative) Recurrent Neural Network (RNN) model which in a later phase be integrated into real time sentiment classification.\n",
    "\n",
    "Objectives :\n",
    "1. Read a set of training tweets with classification\n",
    "2. Read and import the pre-trained  GloVe(Global Vectors for Word Representation) embedding weights from the official website https://nlp.stanford.edu/projects/glove/ \n",
    "3. Convert tweet sentences into a one-hot representation array with a maximum of 30 words basis the above downloaded GloVe embeddings\n",
    "4. Convert the one hot indexed representation to a vector representation basis the GloVe embeddings\n",
    "5. Create a simple RNN model with LSTM inputting vectorized embeddings with 128 units and a single output into a softmax classifier\n",
    "6. Training the model for 20 epocs\n",
    "4. Saving the trained model and using for predictions\n"
   ]
  },
  {
   "cell_type": "markdown",
   "metadata": {},
   "source": [
    "## Importing relevant libraries and the dataset\n",
    "\n",
    "I am using the below libraries in python with GPU acceleration:\n",
    "1. Numpy\n",
    "2. Pandas\n",
    "3. Collections\n",
    "4. Re\n",
    "5. Keras\n",
    "6. Tensorflow\n",
    "7. Matplotlib\n",
    "\n",
    "The dataset for training sentiment classification is from the below kaggle link:\n",
    "https://www.kaggle.com/crowdflower/twitter-airline-sentiment"
   ]
  },
  {
   "cell_type": "code",
   "execution_count": 1,
   "metadata": {},
   "outputs": [
    {
     "name": "stderr",
     "output_type": "stream",
     "text": [
      "Using TensorFlow backend.\n"
     ]
    },
    {
     "data": {
      "text/html": [
       "<div>\n",
       "<style scoped>\n",
       "    .dataframe tbody tr th:only-of-type {\n",
       "        vertical-align: middle;\n",
       "    }\n",
       "\n",
       "    .dataframe tbody tr th {\n",
       "        vertical-align: top;\n",
       "    }\n",
       "\n",
       "    .dataframe thead th {\n",
       "        text-align: right;\n",
       "    }\n",
       "</style>\n",
       "<table border=\"1\" class=\"dataframe\">\n",
       "  <thead>\n",
       "    <tr style=\"text-align: right;\">\n",
       "      <th></th>\n",
       "      <th>tweet_id</th>\n",
       "      <th>airline_sentiment</th>\n",
       "      <th>airline_sentiment_confidence</th>\n",
       "      <th>negativereason</th>\n",
       "      <th>negativereason_confidence</th>\n",
       "      <th>airline</th>\n",
       "      <th>airline_sentiment_gold</th>\n",
       "      <th>name</th>\n",
       "      <th>negativereason_gold</th>\n",
       "      <th>retweet_count</th>\n",
       "      <th>text</th>\n",
       "      <th>tweet_coord</th>\n",
       "      <th>tweet_created</th>\n",
       "      <th>tweet_location</th>\n",
       "      <th>user_timezone</th>\n",
       "    </tr>\n",
       "  </thead>\n",
       "  <tbody>\n",
       "    <tr>\n",
       "      <th>0</th>\n",
       "      <td>570306133677760513</td>\n",
       "      <td>neutral</td>\n",
       "      <td>1.0000</td>\n",
       "      <td>NaN</td>\n",
       "      <td>NaN</td>\n",
       "      <td>Virgin America</td>\n",
       "      <td>NaN</td>\n",
       "      <td>cairdin</td>\n",
       "      <td>NaN</td>\n",
       "      <td>0</td>\n",
       "      <td>@VirginAmerica What @dhepburn said.</td>\n",
       "      <td>NaN</td>\n",
       "      <td>2015-02-24 11:35:52 -0800</td>\n",
       "      <td>NaN</td>\n",
       "      <td>Eastern Time (US &amp; Canada)</td>\n",
       "    </tr>\n",
       "    <tr>\n",
       "      <th>1</th>\n",
       "      <td>570301130888122368</td>\n",
       "      <td>positive</td>\n",
       "      <td>0.3486</td>\n",
       "      <td>NaN</td>\n",
       "      <td>0.0000</td>\n",
       "      <td>Virgin America</td>\n",
       "      <td>NaN</td>\n",
       "      <td>jnardino</td>\n",
       "      <td>NaN</td>\n",
       "      <td>0</td>\n",
       "      <td>@VirginAmerica plus you've added commercials t...</td>\n",
       "      <td>NaN</td>\n",
       "      <td>2015-02-24 11:15:59 -0800</td>\n",
       "      <td>NaN</td>\n",
       "      <td>Pacific Time (US &amp; Canada)</td>\n",
       "    </tr>\n",
       "    <tr>\n",
       "      <th>2</th>\n",
       "      <td>570301083672813571</td>\n",
       "      <td>neutral</td>\n",
       "      <td>0.6837</td>\n",
       "      <td>NaN</td>\n",
       "      <td>NaN</td>\n",
       "      <td>Virgin America</td>\n",
       "      <td>NaN</td>\n",
       "      <td>yvonnalynn</td>\n",
       "      <td>NaN</td>\n",
       "      <td>0</td>\n",
       "      <td>@VirginAmerica I didn't today... Must mean I n...</td>\n",
       "      <td>NaN</td>\n",
       "      <td>2015-02-24 11:15:48 -0800</td>\n",
       "      <td>Lets Play</td>\n",
       "      <td>Central Time (US &amp; Canada)</td>\n",
       "    </tr>\n",
       "    <tr>\n",
       "      <th>3</th>\n",
       "      <td>570301031407624196</td>\n",
       "      <td>negative</td>\n",
       "      <td>1.0000</td>\n",
       "      <td>Bad Flight</td>\n",
       "      <td>0.7033</td>\n",
       "      <td>Virgin America</td>\n",
       "      <td>NaN</td>\n",
       "      <td>jnardino</td>\n",
       "      <td>NaN</td>\n",
       "      <td>0</td>\n",
       "      <td>@VirginAmerica it's really aggressive to blast...</td>\n",
       "      <td>NaN</td>\n",
       "      <td>2015-02-24 11:15:36 -0800</td>\n",
       "      <td>NaN</td>\n",
       "      <td>Pacific Time (US &amp; Canada)</td>\n",
       "    </tr>\n",
       "    <tr>\n",
       "      <th>4</th>\n",
       "      <td>570300817074462722</td>\n",
       "      <td>negative</td>\n",
       "      <td>1.0000</td>\n",
       "      <td>Can't Tell</td>\n",
       "      <td>1.0000</td>\n",
       "      <td>Virgin America</td>\n",
       "      <td>NaN</td>\n",
       "      <td>jnardino</td>\n",
       "      <td>NaN</td>\n",
       "      <td>0</td>\n",
       "      <td>@VirginAmerica and it's a really big bad thing...</td>\n",
       "      <td>NaN</td>\n",
       "      <td>2015-02-24 11:14:45 -0800</td>\n",
       "      <td>NaN</td>\n",
       "      <td>Pacific Time (US &amp; Canada)</td>\n",
       "    </tr>\n",
       "  </tbody>\n",
       "</table>\n",
       "</div>"
      ],
      "text/plain": [
       "             tweet_id airline_sentiment  airline_sentiment_confidence  \\\n",
       "0  570306133677760513           neutral                        1.0000   \n",
       "1  570301130888122368          positive                        0.3486   \n",
       "2  570301083672813571           neutral                        0.6837   \n",
       "3  570301031407624196          negative                        1.0000   \n",
       "4  570300817074462722          negative                        1.0000   \n",
       "\n",
       "  negativereason  negativereason_confidence         airline  \\\n",
       "0            NaN                        NaN  Virgin America   \n",
       "1            NaN                     0.0000  Virgin America   \n",
       "2            NaN                        NaN  Virgin America   \n",
       "3     Bad Flight                     0.7033  Virgin America   \n",
       "4     Can't Tell                     1.0000  Virgin America   \n",
       "\n",
       "  airline_sentiment_gold        name negativereason_gold  retweet_count  \\\n",
       "0                    NaN     cairdin                 NaN              0   \n",
       "1                    NaN    jnardino                 NaN              0   \n",
       "2                    NaN  yvonnalynn                 NaN              0   \n",
       "3                    NaN    jnardino                 NaN              0   \n",
       "4                    NaN    jnardino                 NaN              0   \n",
       "\n",
       "                                                text tweet_coord  \\\n",
       "0                @VirginAmerica What @dhepburn said.         NaN   \n",
       "1  @VirginAmerica plus you've added commercials t...         NaN   \n",
       "2  @VirginAmerica I didn't today... Must mean I n...         NaN   \n",
       "3  @VirginAmerica it's really aggressive to blast...         NaN   \n",
       "4  @VirginAmerica and it's a really big bad thing...         NaN   \n",
       "\n",
       "               tweet_created tweet_location               user_timezone  \n",
       "0  2015-02-24 11:35:52 -0800            NaN  Eastern Time (US & Canada)  \n",
       "1  2015-02-24 11:15:59 -0800            NaN  Pacific Time (US & Canada)  \n",
       "2  2015-02-24 11:15:48 -0800      Lets Play  Central Time (US & Canada)  \n",
       "3  2015-02-24 11:15:36 -0800            NaN  Pacific Time (US & Canada)  \n",
       "4  2015-02-24 11:14:45 -0800            NaN  Pacific Time (US & Canada)  "
      ]
     },
     "execution_count": 1,
     "metadata": {},
     "output_type": "execute_result"
    }
   ],
   "source": [
    "import numpy as np\n",
    "import pandas as pd\n",
    "from collections import Counter\n",
    "import re as re\n",
    "\n",
    "from keras.models import Model\n",
    "from keras.layers import Dense, Input, Dropout, LSTM, Activation, Bidirectional\n",
    "from keras.layers.embeddings import Embedding\n",
    "from keras.preprocessing import sequence\n",
    "from keras.initializers import glorot_uniform\n",
    "\n",
    "import matplotlib.pyplot as plt\n",
    "\n",
    "data = pd.read_csv('data/Tweets.csv')\n",
    "data.head()"
   ]
  },
  {
   "cell_type": "markdown",
   "metadata": {},
   "source": [
    "## Reading and spliting the dataset into test and training sub-sets"
   ]
  },
  {
   "cell_type": "code",
   "execution_count": 2,
   "metadata": {},
   "outputs": [
    {
     "data": {
      "text/plain": [
       "Counter({'neutral': 3017, 'positive': 2304, 'negative': 8679})"
      ]
     },
     "execution_count": 2,
     "metadata": {},
     "output_type": "execute_result"
    }
   ],
   "source": [
    "reviews = np.array(data['text'][:14000])\n",
    "labels = np.array(data['airline_sentiment'])[:14000]\n",
    "Counter(labels)"
   ]
  },
  {
   "cell_type": "markdown",
   "metadata": {},
   "source": [
    "### Splitting the data into training, validation and testing datasets\n",
    "\n",
    "80% of the dataset has been split into training dataset and the remaining equally into validation and testing dataset."
   ]
  },
  {
   "cell_type": "code",
   "execution_count": 4,
   "metadata": {},
   "outputs": [
    {
     "name": "stdout",
     "output_type": "stream",
     "text": [
      "\t\t\tFeature Shapes:\n",
      "Train set: \t\t(12600,) \n",
      "Test set: \t\t(1400,)\n",
      "(12600,)\n"
     ]
    }
   ],
   "source": [
    "split_frac = 0.9\n",
    "\n",
    "## split data into training, validation, and test data (features and labels, x and y)\n",
    "\n",
    "split_idx = int(len(reviews)*split_frac)\n",
    "train_x, test_x = reviews[:split_idx], reviews[split_idx:]\n",
    "train_y, test_y = labels[:split_idx], labels[split_idx:]\n",
    "\n",
    "\n",
    "## print out the shapes of the resultant feature data\n",
    "print(\"\\t\\t\\tFeature Shapes:\")\n",
    "print(\"Train set: \\t\\t{}\".format(train_x.shape), \n",
    "      \"\\nTest set: \\t\\t{}\".format(test_x.shape))\n",
    "print(np.shape(train_y))"
   ]
  },
  {
   "cell_type": "markdown",
   "metadata": {},
   "source": [
    "## Importing the GloVe word to vector mapping\n",
    "\n",
    "For the word embeddings, I use the 25 dimensional Twitter GloVe embeddings published by the Stanford University. This embedding has a vocabulary size of approx. 1.2 million and seemed perfect for the sentiment classification of tweets.\n",
    "\n",
    "A function named \"read_glove_vectors\" have been defined that accepts the file name and encoding format as inputs and returns dictionaries that maps words to indices, its vector representation and indices back to word vectors. The function ignores a vector representation if there is no 25 dimensions to its encoded vectors."
   ]
  },
  {
   "cell_type": "code",
   "execution_count": 5,
   "metadata": {},
   "outputs": [],
   "source": [
    "def read_glove_vectors(file_name, encode):\n",
    "    \n",
    "    emb_file = open(file_name, encoding=encode)\n",
    "    \n",
    "    # Dictionary to store the output\n",
    "    word_to_vector_map = dict()\n",
    "    word_to_index = dict()\n",
    "    index_to_word =dict()\n",
    "\n",
    "    #Converting Glove embeddings into a dictionary\n",
    "    i = 1\n",
    "    for line in emb_file:\n",
    "        values = line.split()\n",
    "        \n",
    "        if len(values[1:]) == 25:                           #Checking if any line misses the 25 dimention embeddings\n",
    "            word = values[0]\n",
    "            word_to_index[word] = i\n",
    "            index_to_word[i] = word\n",
    "            i = i+1    \n",
    "            coefs = np.asarray(values[1:], dtype='float32')\n",
    "            word_to_vector_map[word] = coefs\n",
    "    emb_file.close()\n",
    "    \n",
    "    return word_to_vector_map, word_to_index, index_to_word\n"
   ]
  },
  {
   "cell_type": "code",
   "execution_count": 6,
   "metadata": {},
   "outputs": [],
   "source": [
    "file_name = 'glove.twitter.27B.25d.txt'\n",
    "encode = 'utf8'\n",
    "word_to_vector_map, word_to_index, index_to_word = read_glove_vectors(file_name, encode)"
   ]
  },
  {
   "cell_type": "code",
   "execution_count": 7,
   "metadata": {},
   "outputs": [
    {
     "name": "stdout",
     "output_type": "stream",
     "text": [
      "<user>\n",
      "Loaded 1193513 word vectors.\n",
      "[-0.93892  -0.53106  -0.076851  1.2284   -0.42073   0.57278   0.27791\n",
      " -2.0537    0.16232  -0.17612   0.91642  -0.28016  -1.4326   -1.5892\n",
      "  0.27062  -0.82859   1.2586   -0.47312   0.44714   0.62342  -0.12856\n",
      "  0.83153  -0.042993  0.41788   0.39497 ]\n"
     ]
    }
   ],
   "source": [
    "#Test Code\n",
    "\n",
    "print(index_to_word[1])\n",
    "\n",
    "\n",
    "print('Loaded %s word vectors.' % len(word_to_vector_map)) # Checking vocab size\n",
    "\n",
    "print(word_to_vector_map['cucumber'])"
   ]
  },
  {
   "cell_type": "markdown",
   "metadata": {},
   "source": [
    "## Functions and dictionaries to pre-process the dataset\n",
    "\n",
    "Of the dataset, the variables relevant for sentiment classification are the text and Airline Sentiment. Both of theses variable values have been filtered out and stored in 2 arrays in the initial steps. In this step, I define functions and dictionaries that can further process the tweets and labels datasets to a desirable form for model creation and evaluation. \n",
    "    "
   ]
  },
  {
   "cell_type": "markdown",
   "metadata": {},
   "source": [
    "### Pre-Processing the tweet dataset\n",
    "\n",
    "To classify tweets into sentiment buckets, I felt it would be wise to reduce the tweets by filtering out \"@\" references, punctuations and links to other websites. Such elements contribute barely if not any to the sentiment of a tweet.\n",
    "\n",
    "#### Function to sanitize tweets text data\n",
    "Below I have defined a function that accepts a sentence string and converts it to a list of words in a sentence sans punctuation, \"@\" references and external website links."
   ]
  },
  {
   "cell_type": "code",
   "execution_count": 8,
   "metadata": {},
   "outputs": [],
   "source": [
    "# Function that accepts a sentence string and coonverts it to a list of words in a sentence sans punctuation, \"@\" references and external website links\n",
    "\n",
    "def sentence_to_list(sentence):\n",
    "    punctuation = '!\"#$%&\\'()*+,-./:;<=>?[\\\\]^_`{|}~'\n",
    "    \n",
    "    sentence = sentence.lower()\n",
    "    sentence = ''.join([c for c in sentence if c not in punctuation])\n",
    "    sentence_list = sentence.split()\n",
    "    sentence_list = [word for word in sentence_list if not re.match('^@',word)]\n",
    "    sentence_list = [word for word in sentence_list if not re.match('^http',word)]\n",
    "    \n",
    "    return sentence_list"
   ]
  },
  {
   "cell_type": "markdown",
   "metadata": {},
   "source": [
    "#### Function to convert tweet sentence array to word index array of max length 30\n",
    "\n",
    "This function defined below accepts a set of tweets, sanitizes it for unwanted words and characters as detailed in the tweet sanitisation function and converts it into an array with the number of sentences as the number of rows and 30 columns representing the maximum number of words accepted in a sentence. Short sentences will have 0 as padding to standardize it to 30 word length."
   ]
  },
  {
   "cell_type": "code",
   "execution_count": 9,
   "metadata": {},
   "outputs": [],
   "source": [
    "# Function to accept sentence arrays and return a number of sentense by 30 beingthe max sentence word lenght\n",
    "\n",
    "def sendence_list_to_index(sendence_array):\n",
    "    m = sendence_array.shape[0]\n",
    "    max_len = 30\n",
    "    na_value = len(word_to_index)\n",
    "    \n",
    "    X_indices = np.zeros((m , max_len))\n",
    "    \n",
    "    \n",
    "    for i in range(m):\n",
    "        sentence_words = sentence_to_list(sendence_array[i])\n",
    "        j=0\n",
    "        for w in sentence_words:\n",
    "            X_indices[i, j] = word_to_index.get(w)\n",
    "            j = j+1\n",
    "            if j == max_len:\n",
    "                break\n",
    "    return X_indices"
   ]
  },
  {
   "cell_type": "code",
   "execution_count": 10,
   "metadata": {},
   "outputs": [
    {
     "name": "stdout",
     "output_type": "stream",
     "text": [
      "[['i', 'love', 'you'], ['life', 'is', 'so', 'beautiful', 'xoxo'], ['too', 'hot', 'to', 'handle'], ['ooh', 'my', 'god']]\n",
      "5\n",
      "<class 'numpy.ndarray'>\n",
      "4\n"
     ]
    },
    {
     "data": {
      "text/plain": [
       "array([[  11.,   69.,   16.,    0.,    0.,    0.,    0.,    0.,    0.,\n",
       "           0.,    0.,    0.,    0.,    0.,    0.,    0.,    0.,    0.,\n",
       "           0.,    0.,    0.,    0.,    0.,    0.,    0.,    0.,    0.,\n",
       "           0.,    0.,    0.],\n",
       "       [ 182.,   33.,   56.,  533., 4326.,    0.,    0.,    0.,    0.,\n",
       "           0.,    0.,    0.,    0.,    0.,    0.,    0.,    0.,    0.,\n",
       "           0.,    0.,    0.,    0.,    0.,    0.,    0.,    0.,    0.,\n",
       "           0.,    0.,    0.],\n",
       "       [ 157.,  560.,   17., 2834.,    0.,    0.,    0.,    0.,    0.,\n",
       "           0.,    0.,    0.,    0.,    0.,    0.,    0.,    0.,    0.,\n",
       "           0.,    0.,    0.,    0.,    0.,    0.,    0.,    0.,    0.,\n",
       "           0.,    0.,    0.],\n",
       "       [3950.,   30.,  331.,    0.,    0.,    0.,    0.,    0.,    0.,\n",
       "           0.,    0.,    0.,    0.,    0.,    0.,    0.,    0.,    0.,\n",
       "           0.,    0.,    0.,    0.,    0.,    0.,    0.,    0.,    0.,\n",
       "           0.,    0.,    0.]])"
      ]
     },
     "execution_count": 10,
     "metadata": {},
     "output_type": "execute_result"
    }
   ],
   "source": [
    "# Sample test code\n",
    "\n",
    "sample_sents = np.array(['I love You #$% @Swamy http://www.innovativespur.com', 'Life is so beautiful XOXO', 'Too hot to handle ###','OOh my god'])\n",
    "\n",
    "sample = []\n",
    "\n",
    "for sentence in sample_sents:\n",
    "    sample.append(sentence_to_list(sentence))\n",
    "    \n",
    "print(sample)\n",
    "\n",
    "print(max([len(sentence_list) for sentence_list in sample]))\n",
    "\n",
    "print(type(reviews))\n",
    "\n",
    "print(sample_sents.shape[0])\n",
    "\n",
    "\n",
    "sendence_list_to_index(sample_sents)"
   ]
  },
  {
   "cell_type": "markdown",
   "metadata": {},
   "source": [
    "### Pre-Processing the tweet sentiment category\n",
    "\n",
    "The tweet sentiment categories are to be converted to one hot encoding with 3 category buckets. \n",
    "I am defining four functions for the below purpose:\n",
    "1. Accept labels dataset and return back dictionaries for label to index mapping and index to label mapping\n",
    "2. Accept labels dataset and label to index mapping and return back an array with each row representing the category indices\n",
    "3. Accept the category indexed labels array and return back a one-hot encoded array with the number of labels as the number of rows\n",
    "4. Accept an array of categories and return back a one hot encoded categorization"
   ]
  },
  {
   "cell_type": "code",
   "execution_count": 11,
   "metadata": {},
   "outputs": [],
   "source": [
    "# Function to labels dataset and return back dictionaries for label to index mappign and index to label mapping\n",
    "\n",
    "def categories_to_indices(labels_in):\n",
    "    labels_u = np.unique(labels_in)\n",
    "    index = [i for i in range(labels_u.shape[0])]\n",
    "    label_to_index = dict(zip(labels_u, index))\n",
    "    index_to_label = dict(zip(index, labels_u))\n",
    "    return label_to_index, index_to_label"
   ]
  },
  {
   "cell_type": "code",
   "execution_count": 12,
   "metadata": {},
   "outputs": [],
   "source": [
    "# Creating the label to index and index to label dictionaries\n",
    "\n",
    "label_to_index, index_to_label = categories_to_indices(labels)"
   ]
  },
  {
   "cell_type": "code",
   "execution_count": 13,
   "metadata": {},
   "outputs": [],
   "source": [
    "#function to convert labels into one hot indices array\n",
    "\n",
    "def one_hot_labels(labels_in, label_to_index ):\n",
    "    labels_oh = np.array([label_to_index[i] for i in labels_in])\n",
    "    return labels_oh"
   ]
  },
  {
   "cell_type": "code",
   "execution_count": 14,
   "metadata": {},
   "outputs": [],
   "source": [
    "#function to convert one hot indices array into binary one hot array\n",
    "\n",
    "def one_hot_encoding(one_hot_index):\n",
    "    b = np.zeros((one_hot_index.size, one_hot_index.max()+1))\n",
    "    b[np.arange(one_hot_index.size),one_hot_index] = 1\n",
    "    return b"
   ]
  },
  {
   "cell_type": "code",
   "execution_count": 15,
   "metadata": {},
   "outputs": [],
   "source": [
    "#function to accept label arrays and output one hot encoded arrays\n",
    "\n",
    "def labels_to_onehot(labels_in, label_to_index):\n",
    "    labels_ohi = one_hot_labels(labels_in, label_to_index)\n",
    "    labels_oh = one_hot_encoding(labels_ohi)\n",
    "    return labels_oh"
   ]
  },
  {
   "attachments": {
    "RNN_Architecture_Sentiment_Classification.gif": {
     "image/gif": "[encoded data removed]"
    }
   },
   "cell_type": "markdown",
   "metadata": {},
   "source": [
    "## Modeling the RNN tweet sentiment classification model\n",
    "\n",
    "The model that I propose to use is a basic RNN model that accepts 30 input word indices, encodes it into a 25 dimensional pre-trained GloVe weights and is passed into a 128 dimensional Long Short Term Memory (LSTM) unit that has a single output at the end that outputs a softmax activated 3 dimensional array which predicts the tweet sentiment class. I am incorporating a dropout layer with a probability of 50%.\n",
    "![RNN_Architecture_Sentiment_Classification.gif](attachment:RNN_Architecture_Sentiment_Classification.gif)\n",
    "_Figure 1 : Illustrative representation of the twitter sentiment classification model_"
   ]
  },
  {
   "cell_type": "markdown",
   "metadata": {},
   "source": [
    "### Function that returns a pre-trained embedding layer\n",
    "\n",
    "Below I am defining a function that can return a pre-trained embedding layer basis the 25 dimensional twitter GloVe embeddings.  The function accepts mapping of words to glove vectors and word to its constituent indices."
   ]
  },
  {
   "cell_type": "code",
   "execution_count": 16,
   "metadata": {},
   "outputs": [],
   "source": [
    "def pretrained_embedding_layer(word_to_vec_map, word_to_index):\n",
    "\n",
    "    vocab_len = len(word_to_index) + 1                 \n",
    "    emb_dim = word_to_vec_map[\"cucumber\"].shape[0]\n",
    "    \n",
    "    emb_matrix = np.zeros((vocab_len,emb_dim))\n",
    "\n",
    "    for word, idx in word_to_index.items():\n",
    "        emb_matrix[idx, :] = word_to_vec_map[word]\n",
    "\n",
    "\n",
    "    embedding_layer = Embedding(vocab_len, emb_dim,trainable = False, mask_zero=True)\n",
    "\n",
    "    embedding_layer.build((None,))\n",
    "    \n",
    "    embedding_layer.set_weights([emb_matrix])\n",
    "    \n",
    "    return embedding_layer"
   ]
  },
  {
   "cell_type": "code",
   "execution_count": 17,
   "metadata": {},
   "outputs": [
    {
     "data": {
      "text/plain": [
       "array([0., 0., 0., 0., 0., 0., 0., 0., 0., 0., 0., 0., 0., 0., 0., 0., 0.,\n",
       "       0., 0., 0., 0., 0., 0., 0., 0.], dtype=float32)"
      ]
     },
     "execution_count": 17,
     "metadata": {},
     "output_type": "execute_result"
    }
   ],
   "source": [
    "sample_Layer = pretrained_embedding_layer(word_to_vector_map, word_to_index)\n",
    "sample_Layer.get_weights()[0][0]\n",
    "#word_to_index['<blank_padding>']"
   ]
  },
  {
   "cell_type": "markdown",
   "metadata": {},
   "source": [
    "### Function to return the prediction model\n",
    "\n",
    "Function that returns the model for prediction basis the model architecture defined in figure 1."
   ]
  },
  {
   "cell_type": "code",
   "execution_count": 18,
   "metadata": {},
   "outputs": [],
   "source": [
    "def Twitter_Sentiment_Model(input_shape, word_to_vec_map, word_to_index):\n",
    "    sentence_indices = Input(shape=input_shape, dtype='int32')\n",
    "    embedding_layer = pretrained_embedding_layer(word_to_vec_map, word_to_index)\n",
    "    embeddings = embedding_layer(sentence_indices)\n",
    "    X = LSTM(units=128, return_sequences = False)(embeddings)\n",
    "    X = Dropout(rate = 0.5)(X)\n",
    "    X = Dense(units = 3)(X)\n",
    "    X = Activation('softmax')(X)\n",
    "    model = Model(inputs = sentence_indices, outputs= X)\n",
    "    return model\n",
    "    "
   ]
  },
  {
   "cell_type": "markdown",
   "metadata": {},
   "source": [
    "### Defining and training the model"
   ]
  },
  {
   "cell_type": "code",
   "execution_count": 19,
   "metadata": {},
   "outputs": [
    {
     "name": "stdout",
     "output_type": "stream",
     "text": [
      "Model: \"model_1\"\n",
      "_________________________________________________________________\n",
      "Layer (type)                 Output Shape              Param #   \n",
      "=================================================================\n",
      "input_1 (InputLayer)         (None, 30)                0         \n",
      "_________________________________________________________________\n",
      "embedding_2 (Embedding)      (None, 30, 25)            29837850  \n",
      "_________________________________________________________________\n",
      "lstm_1 (LSTM)                (None, 128)               78848     \n",
      "_________________________________________________________________\n",
      "dropout_1 (Dropout)          (None, 128)               0         \n",
      "_________________________________________________________________\n",
      "dense_1 (Dense)              (None, 3)                 387       \n",
      "_________________________________________________________________\n",
      "activation_1 (Activation)    (None, 3)                 0         \n",
      "=================================================================\n",
      "Total params: 29,917,085\n",
      "Trainable params: 79,235\n",
      "Non-trainable params: 29,837,850\n",
      "_________________________________________________________________\n"
     ]
    }
   ],
   "source": [
    "# Initiating the model\n",
    "\n",
    "max_len = 30\n",
    "model = Twitter_Sentiment_Model((max_len,), word_to_vector_map, word_to_index)\n",
    "model.summary()"
   ]
  },
  {
   "cell_type": "code",
   "execution_count": 20,
   "metadata": {},
   "outputs": [],
   "source": [
    "# Compiling the model \n",
    "\n",
    "model.compile(loss='categorical_crossentropy', optimizer='adam', metrics=['accuracy'])"
   ]
  },
  {
   "cell_type": "code",
   "execution_count": 21,
   "metadata": {},
   "outputs": [],
   "source": [
    "# Defining the training dataset using the functions defined before\n",
    "\n",
    "X_train_indices = sendence_list_to_index(train_x)\n",
    "\n",
    "Y_train_oh = labels_to_onehot(train_y, label_to_index)"
   ]
  },
  {
   "cell_type": "code",
   "execution_count": 22,
   "metadata": {},
   "outputs": [
    {
     "name": "stdout",
     "output_type": "stream",
     "text": [
      "(12600, 3) (12600, 3) (12600,)\n"
     ]
    }
   ],
   "source": [
    "#Test Code\n",
    "\n",
    "print(np.shape(Y_train_oh), np.shape(Y_train_oh), np.shape(train_y))"
   ]
  },
  {
   "cell_type": "code",
   "execution_count": 23,
   "metadata": {},
   "outputs": [
    {
     "name": "stdout",
     "output_type": "stream",
     "text": [
      "Train on 11340 samples, validate on 1260 samples\n",
      "Epoch 1/15\n",
      "11340/11340 [==============================] - 40s 4ms/step - loss: 0.7305 - accuracy: 0.7030 - val_loss: 0.6149 - val_accuracy: 0.7667\n",
      "Epoch 2/15\n",
      "11340/11340 [==============================] - 38s 3ms/step - loss: 0.6578 - accuracy: 0.7338 - val_loss: 0.6092 - val_accuracy: 0.7563\n",
      "Epoch 3/15\n",
      "11340/11340 [==============================] - 38s 3ms/step - loss: 0.6327 - accuracy: 0.7445 - val_loss: 0.5909 - val_accuracy: 0.7762\n",
      "Epoch 4/15\n",
      "11340/11340 [==============================] - 38s 3ms/step - loss: 0.6122 - accuracy: 0.7537 - val_loss: 0.5854 - val_accuracy: 0.7738\n",
      "Epoch 5/15\n",
      "11340/11340 [==============================] - 37s 3ms/step - loss: 0.5950 - accuracy: 0.7622 - val_loss: 0.5693 - val_accuracy: 0.7786\n",
      "Epoch 6/15\n",
      "11340/11340 [==============================] - 37s 3ms/step - loss: 0.5791 - accuracy: 0.7614 - val_loss: 0.5643 - val_accuracy: 0.7706\n",
      "Epoch 7/15\n",
      "11340/11340 [==============================] - 37s 3ms/step - loss: 0.5603 - accuracy: 0.7733 - val_loss: 0.5783 - val_accuracy: 0.7635\n",
      "Epoch 8/15\n",
      "11340/11340 [==============================] - 38s 3ms/step - loss: 0.5481 - accuracy: 0.7817 - val_loss: 0.5676 - val_accuracy: 0.7802\n",
      "Epoch 9/15\n",
      "11340/11340 [==============================] - 38s 3ms/step - loss: 0.5349 - accuracy: 0.7845 - val_loss: 0.5515 - val_accuracy: 0.7865\n",
      "Epoch 10/15\n",
      "11340/11340 [==============================] - 38s 3ms/step - loss: 0.5195 - accuracy: 0.7895 - val_loss: 0.5563 - val_accuracy: 0.7802\n",
      "Epoch 11/15\n",
      "11340/11340 [==============================] - 38s 3ms/step - loss: 0.5015 - accuracy: 0.7959 - val_loss: 0.5657 - val_accuracy: 0.7770\n",
      "Epoch 12/15\n",
      "11340/11340 [==============================] - 38s 3ms/step - loss: 0.4904 - accuracy: 0.8017 - val_loss: 0.5739 - val_accuracy: 0.7762\n",
      "Epoch 13/15\n",
      "11340/11340 [==============================] - 38s 3ms/step - loss: 0.4713 - accuracy: 0.8087 - val_loss: 0.5713 - val_accuracy: 0.7849\n",
      "Epoch 14/15\n",
      "11340/11340 [==============================] - 36s 3ms/step - loss: 0.4540 - accuracy: 0.8138 - val_loss: 0.5961 - val_accuracy: 0.7802\n",
      "Epoch 15/15\n",
      "11340/11340 [==============================] - 37s 3ms/step - loss: 0.4370 - accuracy: 0.8263 - val_loss: 0.5825 - val_accuracy: 0.7762\n"
     ]
    }
   ],
   "source": [
    "# Training the model for 15 Epochs\n",
    "\n",
    "history = model.fit(X_train_indices, Y_train_oh, epochs = 15, batch_size = 32, shuffle=True, validation_split=0.10)"
   ]
  },
  {
   "cell_type": "code",
   "execution_count": 24,
   "metadata": {},
   "outputs": [],
   "source": [
    "# Saving the trained model\n",
    "\n",
    "model.save('Twitter_Sentiment_Model.h5')"
   ]
  },
  {
   "cell_type": "markdown",
   "metadata": {},
   "source": [
    "### Visualizing the history of model optimization "
   ]
  },
  {
   "cell_type": "code",
   "execution_count": 33,
   "metadata": {},
   "outputs": [
    {
     "data": {
      "image/png": "[encoded data removed]",
      "text/plain": [
       "<Figure size 432x288 with 1 Axes>"
      ]
     },
     "metadata": {
      "needs_background": "light"
     },
     "output_type": "display_data"
    },
    {
     "data": {
      "image/png": "[encoded data removed]",
      "text/plain": [
       "<Figure size 432x288 with 1 Axes>"
      ]
     },
     "metadata": {
      "needs_background": "light"
     },
     "output_type": "display_data"
    }
   ],
   "source": [
    "# summarize history for accuracy\n",
    "plt.plot(history.history['accuracy'])\n",
    "plt.plot(history.history['val_accuracy'])\n",
    "plt.title('model accuracy')\n",
    "plt.ylabel('accuracy')\n",
    "plt.xlabel('epoch')\n",
    "plt.legend(['train', 'Validation'], loc='upper left')\n",
    "plt.show()\n",
    "\n",
    "# summarize history for loss\n",
    "plt.plot(history.history['loss'])\n",
    "plt.plot(history.history['val_loss'])\n",
    "plt.title('model loss')\n",
    "plt.ylabel('loss')\n",
    "plt.xlabel('epoch')\n",
    "plt.legend(['train', 'Validation'], loc='upper left')\n",
    "plt.show()"
   ]
  },
  {
   "cell_type": "markdown",
   "metadata": {},
   "source": [
    "## Testing the trained model on test data"
   ]
  },
  {
   "cell_type": "code",
   "execution_count": 26,
   "metadata": {},
   "outputs": [],
   "source": [
    "# Testing the model with one sentense\n",
    "\n",
    "x_test = np.array(['experience is like having fun'])\n",
    "X_test_indices = sendence_list_to_index(x_test)"
   ]
  },
  {
   "cell_type": "code",
   "execution_count": 27,
   "metadata": {},
   "outputs": [
    {
     "data": {
      "text/plain": [
       "'negative'"
      ]
     },
     "execution_count": 27,
     "metadata": {},
     "output_type": "execute_result"
    }
   ],
   "source": [
    "index_to_label[np.argmax(model.predict(X_test_indices))]"
   ]
  },
  {
   "cell_type": "code",
   "execution_count": 28,
   "metadata": {},
   "outputs": [
    {
     "name": "stdout",
     "output_type": "stream",
     "text": [
      "Num GPUs Available:  1\n"
     ]
    }
   ],
   "source": [
    "# Checking for GPU acceleration\n",
    "\n",
    "import tensorflow as tf\n",
    "print(\"Num GPUs Available: \", len(tf.config.experimental.list_physical_devices('GPU')))"
   ]
  },
  {
   "cell_type": "code",
   "execution_count": 29,
   "metadata": {},
   "outputs": [
    {
     "name": "stdout",
     "output_type": "stream",
     "text": [
      "1400/1400 [==============================] - 1s 606us/step\n",
      "\n",
      "Test accuracy =  0.8264285922050476\n"
     ]
    }
   ],
   "source": [
    "# Testing on test data\n",
    "\n",
    "X_test_indices = sendence_list_to_index(test_x)\n",
    "Y_test_oh = labels_to_onehot(test_y, label_to_index)\n",
    "\n",
    "loss, acc = model.evaluate(X_test_indices, Y_test_oh)\n",
    "print()\n",
    "print(\"Test accuracy = \", acc)"
   ]
  },
  {
   "cell_type": "markdown",
   "metadata": {},
   "source": [
    "## Conclusion\n",
    "\n",
    "The model seems to perform with approx. 80% accuracy in sentiment prediction. This is based on the freely available twitter sentiment classified tweet dataset for the airline industry.  Our end objective is to use the model for sentiment classification of any industry and not just the airline industry.  Therefore, for the future iterations I plan to re-train using a custom prepared sentiment classified, industry classified news feed tweet dataset.  "
   ]
  },
  {
   "cell_type": "markdown",
   "metadata": {},
   "source": [
    "## References\n",
    "\n",
    "1. Twitter Sentiment Classification by Andika Rachman https://github.com/andikarachman/RNN-Twitter-Sentiment-Analysis/blob/master/RNN_Twitter_Sentiment_Analysis.ipynb\n",
    "2. Andrew Ng from Deeplearning.ai for an awsome Sequence Models class at Coursera https://www.coursera.org/learn/nlp-sequence-models"
   ]
  }
 ],
 "metadata": {
  "kernelspec": {
   "display_name": "Python 3",
   "language": "python",
   "name": "python3"
  },
  "language_info": {
   "codemirror_mode": {
    "name": "ipython",
    "version": 3
   },
   "file_extension": ".py",
   "mimetype": "text/x-python",
   "name": "python",
   "nbconvert_exporter": "python",
   "pygments_lexer": "ipython3",
   "version": "3.7.3"
  },
  "toc": {
   "base_numbering": 1,
   "nav_menu": {},
   "number_sections": true,
   "sideBar": true,
   "skip_h1_title": false,
   "title_cell": "Table of Contents",
   "title_sidebar": "Contents",
   "toc_cell": false,
   "toc_position": {},
   "toc_section_display": true,
   "toc_window_display": false
  }
 },
 "nbformat": 4,
 "nbformat_minor": 2
}
