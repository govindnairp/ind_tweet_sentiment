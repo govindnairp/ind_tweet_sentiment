{
 "cells": [
  {
   "cell_type": "markdown",
   "metadata": {},
   "source": [
    "# Extracting tags from Bloomberg tweets using Flair (Phase 2A) \n",
    "\n",
    "A critical part of building a news tweet sentiment monitoring tool is the scrapping of specific tweets itself from twitter and classifying it into industry/geography buckets. For news tweets, I have chosen the Bloomberg's official twitter handle bearing the ID \"@business\". Also during my research to tackling the industry/geography classification, I found the flair library's, named entity recognition features quiet interesting and wanted to test its capabilities with Bloomberg's tweets.\n",
    "\n",
    "An overview of the entire project can be accessed at: http://innovativespur.com/industry-sentiment-analysis-from-twitter-feed/\n",
    "\n",
    "## Importing libraries for tweet import\n",
    "\n",
    "For importing tweets from twitter I use the tweepy library available for python (https://www.tweepy.org/). My API credentials have been masked and imported into the project notebook through the \"twitter_credentials\" file. "
   ]
  },
  {
   "cell_type": "code",
   "execution_count": 1,
   "metadata": {},
   "outputs": [],
   "source": [
    "from tweepy import API\n",
    "from tweepy import Cursor\n",
    "\n",
    "from tweepy.streaming import StreamListener\n",
    "from tweepy import OAuthHandler #Authentication with credentials\n",
    "from tweepy import Stream #Live Stream API\n",
    "\n",
    "import twitter_credentials\n",
    "\n",
    "import numpy as np\n",
    "import pandas as pd\n",
    "import matplotlib.pyplot as plt"
   ]
  },
  {
   "cell_type": "markdown",
   "metadata": {},
   "source": [
    "## Defining functions for retrieving tweets\n",
    "\n",
    "I am defining the below 4 functions to help in retrieving the tweets:\n",
    "1. authenticate_twitter_app: used to authenticate to the twitter API and return back the authenticated instance\n",
    "2. retrive_tweets: returns a list of tweets, by accepting the twitter client, @username and number of tweets  parameters\n",
    "3. retrive_search_tweets: returns a list of tweets, by accepting the twitter client, search term and number of tweets parameters\n",
    "4. tweets_to_data_frame: accepts the tweet list with each item representing the tweet object returned by tweepy"
   ]
  },
  {
   "cell_type": "code",
   "execution_count": 2,
   "metadata": {},
   "outputs": [],
   "source": [
    "def authenticate_twitter_app():\n",
    "    auth = OAuthHandler(twitter_credentials.CONSUMER_KEY, twitter_credentials.CONSUMER_SECRET)\n",
    "    auth.set_access_token(twitter_credentials.ACCESS_TOKEN, twitter_credentials.ACCESS_TOKEN_SECRET)\n",
    "    return auth"
   ]
  },
  {
   "cell_type": "code",
   "execution_count": 3,
   "metadata": {},
   "outputs": [],
   "source": [
    "def retrive_tweets(twitter_client ,user_id, no_of_tweets):\n",
    "    tweets = []\n",
    "    for tweet in Cursor(twitter_client.user_timeline, screen_name = user_id, tweet_mode = 'extended').items(no_of_tweets):\n",
    "        tweets.append(tweet)\n",
    "    return tweets"
   ]
  },
  {
   "cell_type": "code",
   "execution_count": 4,
   "metadata": {},
   "outputs": [],
   "source": [
    "def retrive_search_tweets(twitter_client ,search, no_of_tweets):\n",
    "    tweets = []\n",
    "    for tweet in Cursor(twitter_client.search, q=search, tweet_mode = 'extended').items(no_of_tweets):\n",
    "        tweets.append(tweet)\n",
    "    return tweets"
   ]
  },
  {
   "cell_type": "code",
   "execution_count": 5,
   "metadata": {},
   "outputs": [],
   "source": [
    "def tweets_to_data_frame(tweets):\n",
    "    df = pd.DataFrame(data=[tweet.full_text for tweet in tweets], columns=['Tweets'])\n",
    "\n",
    "    df['id'] = np.array([tweet.id for tweet in tweets])\n",
    "    df['len'] = np.array([len(tweet.full_text) for tweet in tweets])\n",
    "    df['date'] = np.array([tweet.created_at for tweet in tweets])\n",
    "    df['coordinates'] = np.array([tweet.coordinates for tweet in tweets])\n",
    "    df['source'] = np.array([tweet.source for tweet in tweets])\n",
    "    df['likes'] = np.array([tweet.favorite_count for tweet in tweets])\n",
    "    df['retweets'] = np.array([tweet.retweet_count for tweet in tweets])\n",
    "    return df"
   ]
  },
  {
   "cell_type": "markdown",
   "metadata": {},
   "source": [
    "## Retrieving tweets\n",
    "\n",
    "To pull \"Bloomberg\" tweets from twitter, below I am authenticating the twitter API using the above defined function. Then an API instance is defined using the authenticated instance."
   ]
  },
  {
   "cell_type": "code",
   "execution_count": 6,
   "metadata": {},
   "outputs": [],
   "source": [
    "auth = authenticate_twitter_app()\n",
    "\n",
    "twitter_client = API(auth)\n",
    "\n",
    "export_file_path = 'D:\\AI\\Projects\\Live_Sentiment_Analysis'"
   ]
  },
  {
   "cell_type": "markdown",
   "metadata": {},
   "source": [
    "User ID of Bloomberg is @business. This ID was passed into the retrive_tweets function defined above and a list of 2,000 tweets were retrieved.  This list of tweets were further passed into the tweets_to_data_frame function to get the dataframe of tweets. "
   ]
  },
  {
   "cell_type": "code",
   "execution_count": 7,
   "metadata": {},
   "outputs": [],
   "source": [
    "user_id = 'business'\n",
    "no_of_tweets = 2000\n",
    "tweets = retrive_tweets(twitter_client ,user_id, no_of_tweets)\n",
    "df = tweets_to_data_frame(tweets)\n",
    "df.to_csv(r'D:\\AI\\Projects\\Live_Sentiment_Analysis\\tweets.csv', index = False, header=True)"
   ]
  },
  {
   "cell_type": "markdown",
   "metadata": {},
   "source": [
    "## Loading retrieved tweets\n",
    "\n",
    "Loading into the notebook, tweets retrieved before."
   ]
  },
  {
   "cell_type": "code",
   "execution_count": 8,
   "metadata": {},
   "outputs": [
    {
     "data": {
      "text/html": [
       "<div>\n",
       "<style scoped>\n",
       "    .dataframe tbody tr th:only-of-type {\n",
       "        vertical-align: middle;\n",
       "    }\n",
       "\n",
       "    .dataframe tbody tr th {\n",
       "        vertical-align: top;\n",
       "    }\n",
       "\n",
       "    .dataframe thead th {\n",
       "        text-align: right;\n",
       "    }\n",
       "</style>\n",
       "<table border=\"1\" class=\"dataframe\">\n",
       "  <thead>\n",
       "    <tr style=\"text-align: right;\">\n",
       "      <th></th>\n",
       "      <th>Tweets</th>\n",
       "      <th>id</th>\n",
       "      <th>len</th>\n",
       "      <th>date</th>\n",
       "      <th>coordinates</th>\n",
       "      <th>source</th>\n",
       "      <th>likes</th>\n",
       "      <th>retweets</th>\n",
       "    </tr>\n",
       "  </thead>\n",
       "  <tbody>\n",
       "    <tr>\n",
       "      <th>0</th>\n",
       "      <td>RT @economics: Coronavirus cases in Latin Amer...</td>\n",
       "      <td>1279812255178203137</td>\n",
       "      <td>140</td>\n",
       "      <td>2020-07-05 16:19:54</td>\n",
       "      <td>NaN</td>\n",
       "      <td>SocialFlow</td>\n",
       "      <td>0</td>\n",
       "      <td>8</td>\n",
       "    </tr>\n",
       "    <tr>\n",
       "      <th>1</th>\n",
       "      <td>A group of bankers marched into a U.S. Treasur...</td>\n",
       "      <td>1279811059117948930</td>\n",
       "      <td>168</td>\n",
       "      <td>2020-07-05 16:15:08</td>\n",
       "      <td>NaN</td>\n",
       "      <td>SocialFlow</td>\n",
       "      <td>12</td>\n",
       "      <td>11</td>\n",
       "    </tr>\n",
       "    <tr>\n",
       "      <th>2</th>\n",
       "      <td>How the pandemic is changing the outlook for p...</td>\n",
       "      <td>1279810554094407683</td>\n",
       "      <td>77</td>\n",
       "      <td>2020-07-05 16:13:08</td>\n",
       "      <td>NaN</td>\n",
       "      <td>SocialFlow</td>\n",
       "      <td>17</td>\n",
       "      <td>14</td>\n",
       "    </tr>\n",
       "    <tr>\n",
       "      <th>3</th>\n",
       "      <td>Restaurants say top tables once impossible to ...</td>\n",
       "      <td>1279810040367546375</td>\n",
       "      <td>127</td>\n",
       "      <td>2020-07-05 16:11:06</td>\n",
       "      <td>NaN</td>\n",
       "      <td>SocialFlow</td>\n",
       "      <td>13</td>\n",
       "      <td>7</td>\n",
       "    </tr>\n",
       "    <tr>\n",
       "      <th>4</th>\n",
       "      <td>U.S. Labor Secretary Eugene Scalia said the ec...</td>\n",
       "      <td>1279808986884308992</td>\n",
       "      <td>145</td>\n",
       "      <td>2020-07-05 16:06:54</td>\n",
       "      <td>NaN</td>\n",
       "      <td>SocialFlow</td>\n",
       "      <td>23</td>\n",
       "      <td>13</td>\n",
       "    </tr>\n",
       "  </tbody>\n",
       "</table>\n",
       "</div>"
      ],
      "text/plain": [
       "                                              Tweets                   id  \\\n",
       "0  RT @economics: Coronavirus cases in Latin Amer...  1279812255178203137   \n",
       "1  A group of bankers marched into a U.S. Treasur...  1279811059117948930   \n",
       "2  How the pandemic is changing the outlook for p...  1279810554094407683   \n",
       "3  Restaurants say top tables once impossible to ...  1279810040367546375   \n",
       "4  U.S. Labor Secretary Eugene Scalia said the ec...  1279808986884308992   \n",
       "\n",
       "   len                 date  coordinates      source  likes  retweets  \n",
       "0  140  2020-07-05 16:19:54          NaN  SocialFlow      0         8  \n",
       "1  168  2020-07-05 16:15:08          NaN  SocialFlow     12        11  \n",
       "2   77  2020-07-05 16:13:08          NaN  SocialFlow     17        14  \n",
       "3  127  2020-07-05 16:11:06          NaN  SocialFlow     13         7  \n",
       "4  145  2020-07-05 16:06:54          NaN  SocialFlow     23        13  "
      ]
     },
     "execution_count": 8,
     "metadata": {},
     "output_type": "execute_result"
    }
   ],
   "source": [
    "data = pd.read_csv('tweets.csv')\n",
    "data.head()"
   ]
  },
  {
   "cell_type": "markdown",
   "metadata": {},
   "source": [
    "## Importing the Flair library and NER model\n",
    "\n",
    "1. To know more about Flair visit : https://github.com/flairNLP/flair\n",
    "2. To know more about NER pre-trained models visit : https://github.com/flairNLP/flair/blob/master/resources/docs/TUTORIAL_2_TAGGING.md"
   ]
  },
  {
   "cell_type": "code",
   "execution_count": 9,
   "metadata": {},
   "outputs": [
    {
     "name": "stdout",
     "output_type": "stream",
     "text": [
      "2020-07-05 21:52:42,782 loading file C:\\Users\\govin\\.flair\\models\\en-ner-conll03-v0.4.pt\n"
     ]
    }
   ],
   "source": [
    "from flair.data import Sentence\n",
    "from flair.models import SequenceTagger\n",
    "\n",
    "tagger = SequenceTagger.load('ner')"
   ]
  },
  {
   "cell_type": "markdown",
   "metadata": {},
   "source": [
    "## Named Entity Recognition using Flair\n",
    "\n",
    "Steps under this stage is as below:\n",
    "1. The tweets are converted into a list and converted into a sentence object list\n",
    "2. These sentence objects are then converted into a dictionary with tags mentioned and stacked up into a list"
   ]
  },
  {
   "cell_type": "code",
   "execution_count": 10,
   "metadata": {},
   "outputs": [],
   "source": [
    "Tweet_List = data['Tweets'].tolist()\n",
    "sentences = [Sentence(tweet, use_tokenizer=True) for tweet in Tweet_List]\n",
    "tagger.predict(sentences)\n",
    "\n",
    "sentences_tagged = []\n",
    "\n",
    "for sentence in sentences:\n",
    "    sentences_tagged.append(sentence.to_dict(tag_type='ner'))"
   ]
  },
  {
   "cell_type": "markdown",
   "metadata": {},
   "source": [
    "### Understanding the dictionary representation returned by the Flair library\n",
    "The \"text\" key contains the tweet that was tagged by the model. The entities key has a list of tags with each tag having a dictionary representation of the tag name, tag type and its probability in decimal terms."
   ]
  },
  {
   "cell_type": "code",
   "execution_count": 11,
   "metadata": {},
   "outputs": [
    {
     "data": {
      "text/plain": [
       "{'text': 'RT @economics: Coronavirus cases in Latin America are soaring, leaving the region with its worst recession since at least 1901. That downtu…',\n",
       " 'labels': [],\n",
       " 'entities': [{'text': 'Latin America',\n",
       "   'start_pos': 36,\n",
       "   'end_pos': 49,\n",
       "   'labels': [LOC (0.9958)]}]}"
      ]
     },
     "execution_count": 11,
     "metadata": {},
     "output_type": "execute_result"
    }
   ],
   "source": [
    "sentences_tagged[0]"
   ]
  },
  {
   "cell_type": "markdown",
   "metadata": {},
   "source": [
    "## Converting the tagged tweets dictionary to a flat dataframe\n",
    "\n",
    "Converting the dictionary representation to a flat table with each tweet matched with all tags and its names. Duplicate records are removed."
   ]
  },
  {
   "cell_type": "code",
   "execution_count": 12,
   "metadata": {},
   "outputs": [
    {
     "data": {
      "text/html": [
       "<div>\n",
       "<style scoped>\n",
       "    .dataframe tbody tr th:only-of-type {\n",
       "        vertical-align: middle;\n",
       "    }\n",
       "\n",
       "    .dataframe tbody tr th {\n",
       "        vertical-align: top;\n",
       "    }\n",
       "\n",
       "    .dataframe thead th {\n",
       "        text-align: right;\n",
       "    }\n",
       "</style>\n",
       "<table border=\"1\" class=\"dataframe\">\n",
       "  <thead>\n",
       "    <tr style=\"text-align: right;\">\n",
       "      <th></th>\n",
       "      <th>Tweet</th>\n",
       "      <th>Name</th>\n",
       "      <th>Tag</th>\n",
       "    </tr>\n",
       "  </thead>\n",
       "  <tbody>\n",
       "    <tr>\n",
       "      <th>0</th>\n",
       "      <td>RT @economics: Coronavirus cases in Latin Amer...</td>\n",
       "      <td>Latin America</td>\n",
       "      <td>LOC</td>\n",
       "    </tr>\n",
       "    <tr>\n",
       "      <th>1</th>\n",
       "      <td>A group of bankers marched into a U.S. Treasur...</td>\n",
       "      <td>U.S. Treasury</td>\n",
       "      <td>ORG</td>\n",
       "    </tr>\n",
       "    <tr>\n",
       "      <th>2</th>\n",
       "      <td>Restaurants say top tables once impossible to ...</td>\n",
       "      <td>London</td>\n",
       "      <td>LOC</td>\n",
       "    </tr>\n",
       "    <tr>\n",
       "      <th>3</th>\n",
       "      <td>U.S. Labor Secretary Eugene Scalia said the ec...</td>\n",
       "      <td>U.S.</td>\n",
       "      <td>LOC</td>\n",
       "    </tr>\n",
       "    <tr>\n",
       "      <th>4</th>\n",
       "      <td>U.S. Labor Secretary Eugene Scalia said the ec...</td>\n",
       "      <td>Eugene Scalia</td>\n",
       "      <td>PER</td>\n",
       "    </tr>\n",
       "  </tbody>\n",
       "</table>\n",
       "</div>"
      ],
      "text/plain": [
       "                                               Tweet           Name  Tag\n",
       "0  RT @economics: Coronavirus cases in Latin Amer...  Latin America  LOC\n",
       "1  A group of bankers marched into a U.S. Treasur...  U.S. Treasury  ORG\n",
       "2  Restaurants say top tables once impossible to ...         London  LOC\n",
       "3  U.S. Labor Secretary Eugene Scalia said the ec...           U.S.  LOC\n",
       "4  U.S. Labor Secretary Eugene Scalia said the ec...  Eugene Scalia  PER"
      ]
     },
     "execution_count": 12,
     "metadata": {},
     "output_type": "execute_result"
    }
   ],
   "source": [
    "df_labels = pd.DataFrame(columns=['Tweet','Name', 'Tag', 'Value'])\n",
    "\n",
    "for sentence_tags in sentences_tagged:\n",
    "    for tags in sentence_tags['entities']:\n",
    "        if 'labels' in tags:\n",
    "            for label in tags['labels']:\n",
    "                df_labels.loc[len(df_labels)] = [sentence_tags['text'],tags['text'] ,label.value,label.score]\n",
    "\n",
    "        else :\n",
    "            df_labels.loc[len(df_labels)] = [sentence_tags['text'],'Tag' ,'Tag','Value']\n",
    "            \n",
    "#Removing duplicates from the dataset\n",
    "df_labels = df_labels.filter(['Tweet','Name','Tag']).drop_duplicates()\n",
    "\n",
    "df_labels.head()"
   ]
  },
  {
   "cell_type": "markdown",
   "metadata": {},
   "source": [
    "## Visualizing the results\n",
    "\n",
    "As we have used the 'ner' pre-trained model for named entity recognition, there should be 4 categories of tags that are captured. Below I try to understand the spread of categories identified from the tweets. "
   ]
  },
  {
   "cell_type": "code",
   "execution_count": 13,
   "metadata": {},
   "outputs": [
    {
     "data": {
      "text/plain": [
       "<matplotlib.axes._subplots.AxesSubplot at 0x22da94e8320>"
      ]
     },
     "execution_count": 13,
     "metadata": {},
     "output_type": "execute_result"
    },
    {
     "data": {
      "image/png": "[encoded data removed]",
      "text/plain": [
       "<Figure size 432x288 with 1 Axes>"
      ]
     },
     "metadata": {
      "needs_background": "light"
     },
     "output_type": "display_data"
    }
   ],
   "source": [
    "# Aggregating the tags to a dataframe with their frequencies of appearence\n",
    "df_tags_grouped = df_labels.groupby(['Name','Tag']).agg({'Tweet':'count'})\n",
    "\n",
    "df_tags_grouped.columns = [\"Count\"]\n",
    "df_tags_grouped = df_tags_grouped.reset_index()\n",
    "df_tags_grouped.head()\n",
    "\n",
    "#Bar plot to understand the frequency\n",
    "df_tags_grouped.groupby(['Tag']).agg({'Count':'sum'}).plot(kind = 'bar')"
   ]
  },
  {
   "cell_type": "markdown",
   "metadata": {},
   "source": [
    "Visualizing location names tagged by the algorithm in word cloud using the wordcloud library."
   ]
  },
  {
   "cell_type": "code",
   "execution_count": 14,
   "metadata": {},
   "outputs": [],
   "source": [
    "import wordcloud as wc\n",
    "import matplotlib.pyplot as plt"
   ]
  },
  {
   "cell_type": "code",
   "execution_count": 15,
   "metadata": {},
   "outputs": [
    {
     "data": {
      "image/png": "[encoded data removed]",
      "text/plain": [
       "<Figure size 432x288 with 1 Axes>"
      ]
     },
     "metadata": {
      "needs_background": "light"
     },
     "output_type": "display_data"
    }
   ],
   "source": [
    "wordcloud2 = wc.WordCloud().generate(' '.join(df_labels[df_labels['Tag'] == 'LOC']['Name']))\n",
    "plt.imshow(wordcloud2)\n",
    "plt.axis(\"off\")\n",
    "plt.show()"
   ]
  },
  {
   "cell_type": "markdown",
   "metadata": {},
   "source": [
    "## Conclusion and future plans\n",
    "\n",
    "The notebook demonstrates the use of tweepy to pull out tweets from twitter real time.  A part of the objective is to classify the tweets to geographic identities. This capability has been demonstrated by using the flair library's Named entity recognition model with 4 category labeling. \n",
    "\n",
    "## Reference\n",
    "1. https://www.tweepy.org/\n",
    "2. https://github.com/flairNLP/flair\n",
    "3. https://www.youtube.com/watch?v=1gQ6uG5Ujiw"
   ]
  }
 ],
 "metadata": {
  "kernelspec": {
   "display_name": "Python 3",
   "language": "python",
   "name": "python3"
  },
  "language_info": {
   "codemirror_mode": {
    "name": "ipython",
    "version": 3
   },
   "file_extension": ".py",
   "mimetype": "text/x-python",
   "name": "python",
   "nbconvert_exporter": "python",
   "pygments_lexer": "ipython3",
   "version": "3.7.3"
  },
  "toc": {
   "base_numbering": 1,
   "nav_menu": {},
   "number_sections": true,
   "sideBar": true,
   "skip_h1_title": false,
   "title_cell": "Table of Contents",
   "title_sidebar": "Contents",
   "toc_cell": false,
   "toc_position": {},
   "toc_section_display": true,
   "toc_window_display": false
  }
 },
 "nbformat": 4,
 "nbformat_minor": 2
}
