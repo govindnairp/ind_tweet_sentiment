{
 "cells": [
  {
   "cell_type": "markdown",
   "metadata": {},
   "source": [
    "# Live tweet extraction, sentiment classification and NER tag extraction\n",
    "\n",
    "## Motivation\n",
    "\n",
    "The fundamental idea behind the project is to use 2 separate NLP models to sentiment tag and industry tag tweets. As from the initial scan of tweets by major business tweet handles, the idea of industrial tweet segmentation seems far fetched for the lack of enough tweets concerning a particular industry. Classification of tweets to an industry might in some cases be linked to a derived meaning of the tweet read along with other business news, which is difficult to factor in basis the current efforts. \n",
    "\n",
    "The ability of Flair's NER models was all the more compelling to extract NER tags from  tweets. These tags can then be analyzed across sentiment buckets to understand the sentiment co-relation across associated organization, person or country.  This can intern help in understanding the sentiment trend across an industry type or a region. "
   ]
  },
  {
   "cell_type": "markdown",
   "metadata": {},
   "source": [
    "## Importing relevant libraries and defining relevant functions\n",
    "\n",
    "Below I import relevant libraries, classification models and create functions that can pull tweets real-time using the twitter API, sentiment classify and NER tag using pre-trained models defined inside the flair library and further summarize the results for  easy analysis.\n",
    "\n",
    "### Importing relevant libraries"
   ]
  },
  {
   "cell_type": "code",
   "execution_count": 1,
   "metadata": {},
   "outputs": [
    {
     "name": "stdout",
     "output_type": "stream",
     "text": [
      "2020-08-04 11:30:48,884 loading file C:\\Users\\govin\\.flair\\models\\sentiment-en-mix-distillbert.pt\n",
      "2020-08-04 11:30:54,752 loading file C:\\Users\\govin\\.flair\\models\\en-ner-conll03-v0.4.pt\n"
     ]
    }
   ],
   "source": [
    "from tweepy import API\n",
    "from tweepy import Cursor\n",
    "\n",
    "from tweepy.streaming import StreamListener\n",
    "from tweepy import OAuthHandler #Authentication with credentials\n",
    "from tweepy import Stream #Live Stream API\n",
    "\n",
    "import twitter_credentials\n",
    "\n",
    "import numpy as np\n",
    "import pandas as pd\n",
    "import matplotlib.pyplot as plt\n",
    "import seaborn as sns\n",
    "\n",
    "from flair.models import TextClassifier\n",
    "from flair.data import Sentence\n",
    "\n",
    "classifier = TextClassifier.load('en-sentiment')\n",
    "\n",
    "from flair.models import SequenceTagger\n",
    "tagger = SequenceTagger.load('ner')"
   ]
  },
  {
   "cell_type": "markdown",
   "metadata": {},
   "source": [
    "### Functions to pull tweet feed"
   ]
  },
  {
   "cell_type": "code",
   "execution_count": 2,
   "metadata": {},
   "outputs": [],
   "source": [
    "def authenticate_twitter_app():\n",
    "    \"\"\"\n",
    "        Function Variables:\n",
    "           auth -- twitter authenticated object after supplying the crcedentials \n",
    "    \"\"\"\n",
    "    auth = OAuthHandler(twitter_credentials.CONSUMER_KEY, twitter_credentials.CONSUMER_SECRET)\n",
    "    auth.set_access_token(twitter_credentials.ACCESS_TOKEN, twitter_credentials.ACCESS_TOKEN_SECRET)\n",
    "    return auth\n",
    "\n",
    "def retrive_tweets(twitter_client ,user_id, no_of_tweets):\n",
    "    \"\"\"\n",
    "        Input Variables:\n",
    "            twitter_client -- twitter API object to pull tweets \n",
    "            user_id -- the user ID for whcih the tweets are to be pulled\n",
    "            no_of_tweets -- the count of tweets to be pulled\n",
    "        Function Variables:\n",
    "           tweets -- list of tweets pulled by the request\n",
    "    \"\"\"\n",
    "    tweets = []\n",
    "    for tweet in Cursor(twitter_client.user_timeline, screen_name = user_id, tweet_mode = 'extended').items(no_of_tweets):\n",
    "        tweets.append(tweet)\n",
    "    return tweets\n",
    "\n",
    "def retrive_search_tweets(twitter_client ,search, no_of_tweets):\n",
    "    \"\"\"\n",
    "        Input Variables:\n",
    "            twitter_client -- twitter API object to pull tweets \n",
    "            search -- the search term for whcih the tweets are to be pulled\n",
    "            no_of_tweets -- the count of tweets to be pulled\n",
    "        Function Variables:\n",
    "           tweets -- list of tweets pulled by the request\n",
    "    \"\"\"\n",
    "    tweets = []\n",
    "    for tweet in Cursor(twitter_client.search, q=search, tweet_mode = 'extended').items(no_of_tweets):\n",
    "        tweets.append(tweet)\n",
    "    return tweets\n",
    "\n",
    "def tweets_to_data_frame(tweets):\n",
    "    \"\"\"\n",
    "        Input Variables:\n",
    "            tweets -- list of tweets pulled by the request\n",
    "        Function Variables:\n",
    "           df -- dataframe containing the tweets\n",
    "    \"\"\"\n",
    "    \n",
    "    df = pd.DataFrame(data=[tweet.full_text for tweet in tweets], columns=['Tweets'])\n",
    "\n",
    "    df['id'] = np.array([tweet.id for tweet in tweets])\n",
    "    df['len'] = np.array([len(tweet.full_text) for tweet in tweets])\n",
    "    df['date'] = np.array([tweet.created_at for tweet in tweets])\n",
    "    df['coordinates'] = np.array([tweet.coordinates for tweet in tweets])\n",
    "    df['source'] = np.array([tweet.source for tweet in tweets])\n",
    "    df['likes'] = np.array([tweet.favorite_count for tweet in tweets])\n",
    "    df['retweets'] = np.array([tweet.retweet_count for tweet in tweets])\n",
    "    return df"
   ]
  },
  {
   "cell_type": "markdown",
   "metadata": {},
   "source": [
    "### Functions to sentiment classify and perform NER tagging"
   ]
  },
  {
   "cell_type": "code",
   "execution_count": 3,
   "metadata": {},
   "outputs": [],
   "source": [
    "# Function to check length of a list\n",
    "def Enquiry(lis1): \n",
    "    if len(lis1) == 0: \n",
    "        return 0\n",
    "    else: \n",
    "        return 1"
   ]
  },
  {
   "cell_type": "code",
   "execution_count": 4,
   "metadata": {},
   "outputs": [],
   "source": [
    "def tweet_to_senti_ner(data):\n",
    "    \"\"\"\n",
    "        Input Variables:\n",
    "            data -- tweets pulled and converted into pandas dataframe by the \"tweets_to_data_frame\" function\n",
    "            n - number of top tags to be identified\n",
    "        Function Variables:\n",
    "           Tweet_List -- tweets convered into list of strings\n",
    "           sentences -- Tweet_List convered into list of flair sentence object list\n",
    "           sentences_tagged -- List with each item representing a dictionary object of each tweet sentiment classified and NER tagged\n",
    "    \"\"\"\n",
    "    Tweet_List = data['Tweets'].tolist()\n",
    "    sentences = [Sentence(tweet, use_tokenizer=True) for tweet in Tweet_List]\n",
    "    \n",
    "    #Prediction and classification\n",
    "    classifier.predict(sentences)\n",
    "    tagger.predict(sentences)\n",
    "\n",
    "    sentences_tagged = []\n",
    "\n",
    "    for sentence in sentences:\n",
    "        sentences_tagged.append(sentence.to_dict(tag_type='ner'))\n",
    "    \n",
    "    return sentences_tagged"
   ]
  },
  {
   "cell_type": "code",
   "execution_count": 5,
   "metadata": {},
   "outputs": [],
   "source": [
    "# Function to convert tweet dictionary list to data frame\n",
    "def flare_dict_to_frame(sentences_tagged):\n",
    "    df_labels = pd.DataFrame(columns=['Int_ID','Tweet','Sentiment','Sentiment_Score','Name', 'Tag', 'Value'])\n",
    "    tweet_id = 1\n",
    "\n",
    "    for sentence_tags in sentences_tagged:\n",
    "        if Enquiry(sentence_tags['entities']):\n",
    "            for tags in sentence_tags['entities']:\n",
    "                for label in tags['labels']:\n",
    "                    df_labels.loc[len(df_labels)] = [tweet_id,sentence_tags['text'],sentence_tags['labels'][0]['value'],sentence_tags['labels'][0]['confidence'],tags['text'] ,label.value,label.score]\n",
    "        else:\n",
    "            df_labels.loc[len(df_labels)] = [tweet_id,sentence_tags['text'],sentence_tags['labels'][0]['value'],sentence_tags['labels'][0]['confidence'],'-','-',0]\n",
    "        tweet_id += 1\n",
    "        \n",
    "    #Removing duplicates from the dataset    \n",
    "    df_labels = df_labels.filter(['Int_ID','Tweet','Sentiment','Sentiment_Score','Name', 'Tag']).drop_duplicates()\n",
    "    return df_labels"
   ]
  },
  {
   "cell_type": "code",
   "execution_count": 6,
   "metadata": {},
   "outputs": [],
   "source": [
    "def tweet_to_tagged_df(term, stype, n):\n",
    "    \"\"\"\n",
    "        Input Variables:\n",
    "            term -- tweets pulled and converted into pandas dataframe by the \"tweets_to_data_frame\" function\n",
    "            stype -- type of tweet pull, ID for ID based pull and 'Search' for search term\n",
    "            n - number of tweets to be pulled\n",
    "        Function Variables:\n",
    "            auth -- tweepy object authenticated with credentials\n",
    "            twitter_client -- tweepy API object\n",
    "            tweets -- tweets in a tweepy object\n",
    "            df_tweet -- tweets converted into dataframe using tweets_to_data_frame function\n",
    "            sentences_tagged -- List with each item representing a dictionary object of each tweet sentiment classified and NER tagged\n",
    "            df_tagged -- the above sentences_tagged converted into a flat dataframe\n",
    "    \"\"\"\n",
    "    \n",
    "    # Authenticate twitter and initialise API call\n",
    "    auth = authenticate_twitter_app()\n",
    "    twitter_client = API(auth)\n",
    "    \n",
    "    #Retrieving tweets\n",
    "    if stype == 'ID':\n",
    "        tweets = retrive_tweets(twitter_client ,term, n)\n",
    "    else:\n",
    "        tweets = retrive_search_tweets(twitter_client ,term, n)\n",
    "    \n",
    "    df_tweet = tweets_to_data_frame(tweets)\n",
    "    \n",
    "    sentences_tagged = tweet_to_senti_ner(df_tweet)\n",
    "    \n",
    "    df_tagged = flare_dict_to_frame(sentences_tagged)\n",
    "    \n",
    "    return df_tagged"
   ]
  },
  {
   "cell_type": "markdown",
   "metadata": {},
   "source": [
    "### Functions for Analyzing sentiment classified NER tagged tweets"
   ]
  },
  {
   "cell_type": "code",
   "execution_count": 7,
   "metadata": {},
   "outputs": [],
   "source": [
    "def top_n_tags_tweet(tweets_p, n):\n",
    "    \"\"\"\n",
    "        Input Variables:\n",
    "            tweets_p -- sentiment classified NER tagged tweets dataframe from the tweets dictionary returned by flair\n",
    "            n - number of top tags to be identified\n",
    "        Function Variables:\n",
    "           tweets_n_t -- input dataframe filtered for no tags\n",
    "           Top_N -- Top n tweet NER recognised tags\n",
    "    \"\"\"\n",
    "    \n",
    "    tweets_n_t = tweets_p[tweets_p.Name != '-']\n",
    "    Top_N = tweets_n_t.groupby(['Name']).count().nlargest(n, 'Int_ID').filter(items = 'Name' ,axis = 1).index.values.tolist()\n",
    "    tweets_n = tweets_n_t[tweets_n_t.Name.isin(Top_N)]\n",
    "    \n",
    "    return tweets_n"
   ]
  },
  {
   "cell_type": "markdown",
   "metadata": {},
   "source": [
    "## Pulling and analyzing tweets\n",
    "\n",
    "The above functions were used to analyze tweets by the presedent of the United States \"Donald Trump\" and the hash tag representing the New Indian Eduction Policy. Donal Trump has the ID \"readDonaldTrump\" and the hash tag for Indian Education Policy is \"#educationpolicy2020\". Twees under these two were sentiment classified and NER tag extracted for analysis."
   ]
  },
  {
   "cell_type": "markdown",
   "metadata": {},
   "source": [
    "### NDTV"
   ]
  },
  {
   "cell_type": "code",
   "execution_count": 8,
   "metadata": {},
   "outputs": [
    {
     "data": {
      "text/html": [
       "<div>\n",
       "<style scoped>\n",
       "    .dataframe tbody tr th:only-of-type {\n",
       "        vertical-align: middle;\n",
       "    }\n",
       "\n",
       "    .dataframe tbody tr th {\n",
       "        vertical-align: top;\n",
       "    }\n",
       "\n",
       "    .dataframe thead th {\n",
       "        text-align: right;\n",
       "    }\n",
       "</style>\n",
       "<table border=\"1\" class=\"dataframe\">\n",
       "  <thead>\n",
       "    <tr style=\"text-align: right;\">\n",
       "      <th></th>\n",
       "      <th>Int_ID</th>\n",
       "      <th>Tweet</th>\n",
       "      <th>Sentiment</th>\n",
       "      <th>Sentiment_Score</th>\n",
       "      <th>Name</th>\n",
       "      <th>Tag</th>\n",
       "    </tr>\n",
       "  </thead>\n",
       "  <tbody>\n",
       "    <tr>\n",
       "      <th>0</th>\n",
       "      <td>1</td>\n",
       "      <td>Have questions on #COVID19? Experts will answe...</td>\n",
       "      <td>NEGATIVE</td>\n",
       "      <td>0.970688</td>\n",
       "      <td>-</td>\n",
       "      <td>-</td>\n",
       "    </tr>\n",
       "    <tr>\n",
       "      <th>1</th>\n",
       "      <td>2</td>\n",
       "      <td>Presumed Dead, Dowry Victim Shows Up At UP Pol...</td>\n",
       "      <td>NEGATIVE</td>\n",
       "      <td>0.975333</td>\n",
       "      <td>-</td>\n",
       "      <td>-</td>\n",
       "    </tr>\n",
       "    <tr>\n",
       "      <th>2</th>\n",
       "      <td>3</td>\n",
       "      <td>#MumbaiRains Cause Landslide On Western Expres...</td>\n",
       "      <td>NEGATIVE</td>\n",
       "      <td>0.995915</td>\n",
       "      <td>Western Express Highway</td>\n",
       "      <td>LOC</td>\n",
       "    </tr>\n",
       "    <tr>\n",
       "      <th>3</th>\n",
       "      <td>4</td>\n",
       "      <td>Watch | Man seen walking with another man on h...</td>\n",
       "      <td>POSITIVE</td>\n",
       "      <td>0.778768</td>\n",
       "      <td>Mumbai</td>\n",
       "      <td>LOC</td>\n",
       "    </tr>\n",
       "    <tr>\n",
       "      <th>4</th>\n",
       "      <td>4</td>\n",
       "      <td>Watch | Man seen walking with another man on h...</td>\n",
       "      <td>POSITIVE</td>\n",
       "      <td>0.778768</td>\n",
       "      <td>Sion</td>\n",
       "      <td>LOC</td>\n",
       "    </tr>\n",
       "  </tbody>\n",
       "</table>\n",
       "</div>"
      ],
      "text/plain": [
       "  Int_ID                                              Tweet Sentiment  \\\n",
       "0      1  Have questions on #COVID19? Experts will answe...  NEGATIVE   \n",
       "1      2  Presumed Dead, Dowry Victim Shows Up At UP Pol...  NEGATIVE   \n",
       "2      3  #MumbaiRains Cause Landslide On Western Expres...  NEGATIVE   \n",
       "3      4  Watch | Man seen walking with another man on h...  POSITIVE   \n",
       "4      4  Watch | Man seen walking with another man on h...  POSITIVE   \n",
       "\n",
       "   Sentiment_Score                     Name  Tag  \n",
       "0         0.970688                        -    -  \n",
       "1         0.975333                        -    -  \n",
       "2         0.995915  Western Express Highway  LOC  \n",
       "3         0.778768                   Mumbai  LOC  \n",
       "4         0.778768                     Sion  LOC  "
      ]
     },
     "execution_count": 8,
     "metadata": {},
     "output_type": "execute_result"
    }
   ],
   "source": [
    "term = 'ndtv'\n",
    "no_of_tweets = 2000\n",
    "stype = 'ID'\n",
    "\n",
    "df_labels = tweet_to_tagged_df(term, stype, no_of_tweets)\n",
    "df_labels.to_pickle('NDTV_tweet_tags.pkl')\n",
    "df_labels.head()"
   ]
  },
  {
   "cell_type": "code",
   "execution_count": 9,
   "metadata": {},
   "outputs": [
    {
     "data": {
      "text/plain": [
       "<matplotlib.axes._subplots.AxesSubplot at 0x1dc1b136be0>"
      ]
     },
     "execution_count": 9,
     "metadata": {},
     "output_type": "execute_result"
    },
    {
     "data": {
      "image/png": "[encoded data removed]",
      "text/plain": [
       "<Figure size 432x288 with 1 Axes>"
      ]
     },
     "metadata": {
      "needs_background": "light"
     },
     "output_type": "display_data"
    }
   ],
   "source": [
    "plt.figure()\n",
    "df_labels.groupby('Sentiment').Int_ID.nunique().plot(kind = 'bar', color=['lightcoral','teal'])"
   ]
  },
  {
   "cell_type": "code",
   "execution_count": 10,
   "metadata": {},
   "outputs": [
    {
     "data": {
      "text/plain": [
       "<matplotlib.axes._subplots.AxesSubplot at 0x1dc1b1f1a90>"
      ]
     },
     "execution_count": 10,
     "metadata": {},
     "output_type": "execute_result"
    },
    {
     "data": {
      "image/png": "[encoded data removed]",
      "text/plain": [
       "<Figure size 432x288 with 1 Axes>"
      ]
     },
     "metadata": {
      "needs_background": "light"
     },
     "output_type": "display_data"
    }
   ],
   "source": [
    "tweettags_t10 = top_n_tags_tweet(df_labels, 10)\n",
    "tweettags_t10.groupby(['Name','Sentiment']).count()['Int_ID'].unstack().plot(kind = 'bar',color=['lightcoral','teal'])"
   ]
  },
  {
   "cell_type": "markdown",
   "metadata": {},
   "source": [
    "### HDFC Bank hashtag"
   ]
  },
  {
   "cell_type": "code",
   "execution_count": 11,
   "metadata": {},
   "outputs": [],
   "source": [
    "term = '#hdfcbank'\n",
    "no_of_tweets = 2000\n",
    "stype = 'Search'\n",
    "\n",
    "df_labels = tweet_to_tagged_df(term, stype, no_of_tweets)\n",
    "df_labels.to_pickle('hdfc_tweet_tags.pkl')"
   ]
  },
  {
   "cell_type": "code",
   "execution_count": 12,
   "metadata": {},
   "outputs": [
    {
     "data": {
      "text/plain": [
       "<matplotlib.axes._subplots.AxesSubplot at 0x1dc54c01e48>"
      ]
     },
     "execution_count": 12,
     "metadata": {},
     "output_type": "execute_result"
    },
    {
     "data": {
      "image/png": "[encoded data removed]",
      "text/plain": [
       "<Figure size 432x288 with 1 Axes>"
      ]
     },
     "metadata": {
      "needs_background": "light"
     },
     "output_type": "display_data"
    }
   ],
   "source": [
    "plt.figure()\n",
    "df_labels.groupby('Sentiment').Int_ID.nunique().plot(kind = 'bar', color=['lightcoral','teal'])"
   ]
  },
  {
   "cell_type": "code",
   "execution_count": 16,
   "metadata": {},
   "outputs": [
    {
     "data": {
      "text/plain": [
       "<matplotlib.axes._subplots.AxesSubplot at 0x1dbf28dea20>"
      ]
     },
     "execution_count": 16,
     "metadata": {},
     "output_type": "execute_result"
    },
    {
     "data": {
      "image/png": "[encoded data removed]",
      "text/plain": [
       "<Figure size 432x288 with 1 Axes>"
      ]
     },
     "metadata": {
      "needs_background": "light"
     },
     "output_type": "display_data"
    }
   ],
   "source": [
    "tweettags_t10 = top_n_tags_tweet(df_labels, 10)\n",
    "tweettags_t10.groupby(['Name','Sentiment']).count()['Int_ID'].unstack().plot(kind = 'bar',color=['lightcoral','teal'])"
   ]
  },
  {
   "cell_type": "markdown",
   "metadata": {},
   "source": [
    "## Future Efforts\n",
    "\n",
    "Through this notebook, the abilities of Flair and its libraries are demonstrated and many functions were defined that can with limited code extract, sentiment classify and NER tag raw tweets from twitter feed. The future endeavours will be focused towards further analyzing the tags and sentiments for inferences and better represent visually such results."
   ]
  },
  {
   "cell_type": "markdown",
   "metadata": {},
   "source": [
    "## References\n",
    "\n",
    "1. https://github.com/flairNLP/flair (Flair library published by the Humbolt University)"
   ]
  }
 ],
 "metadata": {
  "kernelspec": {
   "display_name": "Python 3",
   "language": "python",
   "name": "python3"
  },
  "language_info": {
   "codemirror_mode": {
    "name": "ipython",
    "version": 3
   },
   "file_extension": ".py",
   "mimetype": "text/x-python",
   "name": "python",
   "nbconvert_exporter": "python",
   "pygments_lexer": "ipython3",
   "version": "3.7.3"
  },
  "toc": {
   "base_numbering": 1,
   "nav_menu": {},
   "number_sections": true,
   "sideBar": true,
   "skip_h1_title": false,
   "title_cell": "Table of Contents",
   "title_sidebar": "Contents",
   "toc_cell": false,
   "toc_position": {},
   "toc_section_display": true,
   "toc_window_display": false
  }
 },
 "nbformat": 4,
 "nbformat_minor": 2
}
